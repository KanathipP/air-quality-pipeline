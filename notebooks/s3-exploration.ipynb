{
 "cells": [
  {
   "cell_type": "code",
   "execution_count": 34,
   "id": "343fc45b",
   "metadata": {},
   "outputs": [],
   "source": [
    "import duckdb as ddb\n"
   ]
  },
  {
   "cell_type": "code",
   "execution_count": 35,
   "id": "31f26a07",
   "metadata": {},
   "outputs": [],
   "source": [
    "ddb.sql(\"INSTALL httpfs; LOAD httpfs\")"
   ]
  },
  {
   "cell_type": "code",
   "execution_count": 36,
   "id": "920b731e",
   "metadata": {},
   "outputs": [],
   "source": [
    "conn = ddb.connect(\"../air_quality.db\")"
   ]
  },
  {
   "cell_type": "code",
   "execution_count": 37,
   "id": "7f7c3c21",
   "metadata": {},
   "outputs": [
    {
     "data": {
      "text/plain": [
       "<duckdb.duckdb.DuckDBPyConnection at 0x725fee6069f0>"
      ]
     },
     "execution_count": 37,
     "metadata": {},
     "output_type": "execute_result"
    }
   ],
   "source": [
    "conn.execute(\"CREATE schema IF NOT EXISTS raw\")"
   ]
  },
  {
   "cell_type": "code",
   "execution_count": 38,
   "id": "d958755a",
   "metadata": {},
   "outputs": [
    {
     "data": {
      "text/plain": [
       "<duckdb.duckdb.DuckDBPyConnection at 0x725fee6069f0>"
      ]
     },
     "execution_count": 38,
     "metadata": {},
     "output_type": "execute_result"
    }
   ],
   "source": [
    "conn.execute(\"\"\"\n",
    "             CREATE TABLE IF NOT EXISTS raw.air_quality_data (\n",
    "                 location_id BIGINT,\n",
    "                 sensors_id BIGINT,\n",
    "                 \"location\" VARCHAR,\n",
    "                 \"datetime\" TIMESTAMP,\n",
    "                 lat DOUBLE,\n",
    "                 lon DOUBLE,\n",
    "                 \"parameter\" VARCHAR,\n",
    "                 units VARCHAR,\n",
    "                 \"value\" DOUBLE,\n",
    "                 \"month\" VARCHAR,\n",
    "                 \"year\" BIGINT,\n",
    "                 ingestion_datetime TIMESTAMP\n",
    "             );\n",
    "             \"\"\")"
   ]
  },
  {
   "cell_type": "code",
   "execution_count": 39,
   "id": "01561893",
   "metadata": {},
   "outputs": [
    {
     "data": {
      "application/vnd.jupyter.widget-view+json": {
       "model_id": "ab8960224781455e81fa63695dee142f",
       "version_major": 2,
       "version_minor": 0
      },
      "text/plain": [
       "FloatProgress(value=0.0, layout=Layout(width='auto'), style=ProgressStyle(bar_color='black'))"
      ]
     },
     "metadata": {},
     "output_type": "display_data"
    },
    {
     "data": {
      "text/plain": [
       "<duckdb.duckdb.DuckDBPyConnection at 0x725fee6069f0>"
      ]
     },
     "execution_count": 39,
     "metadata": {},
     "output_type": "execute_result"
    }
   ],
   "source": [
    "conn.execute(\"\"\"\n",
    "             INSERT INTO raw.air_quality_data\n",
    "             SELECT\n",
    "                location_id,\n",
    "                sensors_id,\n",
    "                \"location\",\n",
    "                \"datetime\",\n",
    "                lat,\n",
    "                lon,\n",
    "                \"parameter\",\n",
    "                units,\n",
    "                \"value\",\n",
    "                \"month\",\n",
    "                \"year\",\n",
    "                current_timestamp AS ingestion_datetime\n",
    "            FROM read_csv('s3://openaq-data-archive/records/csv.gz/locationid=225393/year=2024/month=01/*.csv.gz');\n",
    "             \"\"\")"
   ]
  },
  {
   "cell_type": "code",
   "execution_count": 41,
   "id": "be83f92e",
   "metadata": {},
   "outputs": [],
   "source": [
    "conn.close()"
   ]
  },
  {
   "cell_type": "code",
   "execution_count": null,
   "id": "d9dde7d9",
   "metadata": {},
   "outputs": [],
   "source": []
  }
 ],
 "metadata": {
  "kernelspec": {
   "display_name": "venv",
   "language": "python",
   "name": "python3"
  },
  "language_info": {
   "codemirror_mode": {
    "name": "ipython",
    "version": 3
   },
   "file_extension": ".py",
   "mimetype": "text/x-python",
   "name": "python",
   "nbconvert_exporter": "python",
   "pygments_lexer": "ipython3",
   "version": "3.12.3"
  }
 },
 "nbformat": 4,
 "nbformat_minor": 5
}
